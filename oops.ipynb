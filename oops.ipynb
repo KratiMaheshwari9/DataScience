{
 "cells": [
  {
   "cell_type": "code",
   "execution_count": 159,
   "metadata": {},
   "outputs": [
    {
     "name": "stdout",
     "output_type": "stream",
     "text": [
      "Hello\n"
     ]
    }
   ],
   "source": [
    "def hello():\n",
    "    print(\"Hello\")\n",
    "hello()    "
   ]
  },
  {
   "cell_type": "markdown",
   "metadata": {},
   "source": [
    "object is a instance , and all have their own methods , properties"
   ]
  },
  {
   "cell_type": "code",
   "execution_count": 160,
   "metadata": {},
   "outputs": [],
   "source": [
    "class Person:\n",
    "    name=\"harry\"\n",
    "    occupation=\"software developer\"\n",
    "    networth = 10\n",
    "    def info(self):\n",
    "        print(f\"{self.name} is a {self.occupation}\")"
   ]
  },
  {
   "cell_type": "code",
   "execution_count": 161,
   "metadata": {},
   "outputs": [],
   "source": [
    "a=Person()"
   ]
  },
  {
   "cell_type": "code",
   "execution_count": 162,
   "metadata": {},
   "outputs": [],
   "source": [
    "b=Person()"
   ]
  },
  {
   "cell_type": "code",
   "execution_count": 163,
   "metadata": {},
   "outputs": [],
   "source": [
    "c=Person()"
   ]
  },
  {
   "cell_type": "code",
   "execution_count": 164,
   "metadata": {},
   "outputs": [
    {
     "name": "stdout",
     "output_type": "stream",
     "text": [
      "harry is a software developer\n",
      "harry is a software developer\n",
      "harry is a software developer\n"
     ]
    }
   ],
   "source": [
    "a.info()\n",
    "b.info()\n",
    "c.info()"
   ]
  },
  {
   "cell_type": "code",
   "execution_count": 165,
   "metadata": {},
   "outputs": [],
   "source": [
    "a.name=\"ajay\"\n",
    "a.occupation=\"web developer\"\n",
    "b.name=\"riri\"\n",
    "b.occupation=\"WB\""
   ]
  },
  {
   "cell_type": "code",
   "execution_count": 166,
   "metadata": {},
   "outputs": [
    {
     "name": "stdout",
     "output_type": "stream",
     "text": [
      "ajay\n"
     ]
    }
   ],
   "source": [
    "print(a.name)"
   ]
  },
  {
   "cell_type": "code",
   "execution_count": 167,
   "metadata": {},
   "outputs": [
    {
     "name": "stdout",
     "output_type": "stream",
     "text": [
      "ajay is a web developer\n",
      "riri is a WB\n",
      "harry is a software developer\n"
     ]
    }
   ],
   "source": [
    "a.info()\n",
    "b.info()\n",
    "c.info()"
   ]
  },
  {
   "cell_type": "markdown",
   "metadata": {},
   "source": [
    "a class is a blueprint or template for creating objects\n",
    "user designed objects"
   ]
  },
  {
   "cell_type": "markdown",
   "metadata": {},
   "source": [
    "Self is a reference of current instance of a class\n",
    "And is used to access variables that belongs to the class"
   ]
  },
  {
   "cell_type": "code",
   "execution_count": null,
   "metadata": {},
   "outputs": [],
   "source": []
  },
  {
   "cell_type": "code",
   "execution_count": null,
   "metadata": {},
   "outputs": [],
   "source": []
  },
  {
   "cell_type": "code",
   "execution_count": null,
   "metadata": {},
   "outputs": [],
   "source": []
  },
  {
   "cell_type": "code",
   "execution_count": 168,
   "metadata": {},
   "outputs": [],
   "source": [
    "class College:\n",
    "\n",
    "#class variable\n",
    "    college_name=\"hCST\"\n",
    "    college_city=\"agra\"\n",
    "\n",
    "#>>>>>>>>>>>>>>>>>>>>>>>>>>>print(College.college_name)    \n",
    "\n",
    "# instance variable = object variable = constructor\n",
    "\n",
    "#def fuction_name\n",
    "\n",
    "#it is a special kind of function which is used to initialize the variables, You will not need to call the constructor , \n",
    "# constructor is used to make objects, it always return None5\n",
    "\n",
    "    def __init__(self,cs_hod,ec_hod,e_hod):\n",
    "       # instance variable\n",
    "       self.college_cse_hod = cs_hod\n",
    "       self.college_ece_hod = ec_hod\n",
    "       self.college_electrical_hod= e_hod\n",
    "       self.Student_marks= [25,35,45,41,42,47,49,38,39,29,46,47]\n",
    "       self.random_number=[52,14,25,36,96,38,56,55,44,66,1,44,25,54,2,4,5,7,8]\n",
    "       print(\" constructor called ! \")\n",
    "#method\n",
    "    def display(self):\n",
    "        print(\"My college name : \",self.college_name)\n",
    "        print(\"My cse HOD : \",self.college_cse_hod)\n",
    "        print(\"My college city : \",self.college_city)\n",
    "\n",
    "\n",
    "    def average_marks(self):\n",
    "        marks=self.Student_marks         \n",
    "        sum=0\n",
    "        c=0\n",
    "        for i in marks:       \n",
    "            sum+=i\n",
    "            c= c+1\n",
    "        print(sum/c)\n",
    "\n",
    "\n"
   ]
  },
  {
   "cell_type": "code",
   "execution_count": 169,
   "metadata": {},
   "outputs": [
    {
     "name": "stdout",
     "output_type": "stream",
     "text": [
      " constructor called ! \n",
      " constructor called ! \n"
     ]
    }
   ],
   "source": [
    "\n",
    "obj1=College(cs_hod=\"manoj\",ec_hod=\"uday\",e_hod=\"rahul\")\n",
    "obj2=College(cs_hod=\"harish\",ec_hod=\"abhishek\",e_hod=\"hariom\")"
   ]
  },
  {
   "cell_type": "code",
   "execution_count": 170,
   "metadata": {},
   "outputs": [
    {
     "name": "stdout",
     "output_type": "stream",
     "text": [
      "40.25\n"
     ]
    }
   ],
   "source": [
    "obj1.average_marks()"
   ]
  },
  {
   "cell_type": "code",
   "execution_count": 171,
   "metadata": {},
   "outputs": [
    {
     "data": {
      "text/plain": [
       "'uday'"
      ]
     },
     "execution_count": 171,
     "metadata": {},
     "output_type": "execute_result"
    }
   ],
   "source": [
    "obj1.college_ece_hod\n",
    "#object.variable_name"
   ]
  },
  {
   "cell_type": "code",
   "execution_count": 172,
   "metadata": {},
   "outputs": [
    {
     "name": "stdout",
     "output_type": "stream",
     "text": [
      "My college name :  hCST\n",
      "My cse HOD :  manoj\n",
      "My college city :  agra\n"
     ]
    }
   ],
   "source": [
    "obj1.display()"
   ]
  },
  {
   "cell_type": "code",
   "execution_count": 173,
   "metadata": {},
   "outputs": [
    {
     "name": "stdout",
     "output_type": "stream",
     "text": [
      "My college name :  hCST\n",
      "My cse HOD :  harish\n",
      "My college city :  agra\n"
     ]
    }
   ],
   "source": [
    "obj2.display()"
   ]
  },
  {
   "cell_type": "code",
   "execution_count": 174,
   "metadata": {},
   "outputs": [],
   "source": [
    "marks= [25,35,45,41,42,47,49,38,39,29,46,47]\n",
    "def average_finder():\n",
    "    sum=0\n",
    "    c=0\n",
    "    for i in marks:  \n",
    "        sum+=i\n",
    "        c +=1 \n",
    "    print(sum/c) "
   ]
  },
  {
   "cell_type": "code",
   "execution_count": 175,
   "metadata": {},
   "outputs": [
    {
     "name": "stdout",
     "output_type": "stream",
     "text": [
      "40.25\n"
     ]
    }
   ],
   "source": [
    "average_finder()"
   ]
  },
  {
   "cell_type": "code",
   "execution_count": 176,
   "metadata": {},
   "outputs": [],
   "source": [
    "class Hello:\n",
    "    def __init__(self):\n",
    "        self.random_number=[52,14,25,36,96,38,56,55,44,66,1,44,25,54,2,4,5,7,8]\n",
    "\n",
    "    def even_odd_counter(self):\n",
    "        m=self.random_number\n",
    "        even=0\n",
    "        odd=0\n",
    "        for i in m:\n",
    "            if i%2==0:\n",
    "                even+=1   \n",
    "            else:\n",
    "                odd+=1    \n",
    "        print(even)\n",
    "        print(odd)        "
   ]
  },
  {
   "cell_type": "code",
   "execution_count": 177,
   "metadata": {},
   "outputs": [],
   "source": [
    "obj=Hello()"
   ]
  },
  {
   "cell_type": "code",
   "execution_count": 178,
   "metadata": {},
   "outputs": [
    {
     "name": "stdout",
     "output_type": "stream",
     "text": [
      "13\n",
      "6\n"
     ]
    }
   ],
   "source": [
    "obj.even_odd_counter()"
   ]
  },
  {
   "cell_type": "code",
   "execution_count": 179,
   "metadata": {},
   "outputs": [],
   "source": [
    "class Pers:\n",
    "    # name=\"harry\"\n",
    "    # occ=\" developer\"\n",
    "\n",
    "\n",
    "    def info(self):\n",
    "        print(f\"{self.name} is a {self.occ}\")\n",
    "\n",
    "    def __init__(self,n,o):\n",
    "        print(\"hey i am a person\")\n",
    "\n",
    "        self.name=n\n",
    "        self.occ=o\n"
   ]
  },
  {
   "cell_type": "code",
   "execution_count": 186,
   "metadata": {},
   "outputs": [
    {
     "name": "stdout",
     "output_type": "stream",
     "text": [
      "hey i am a person\n",
      "hey i am a person\n",
      "hey i am a person\n",
      "alka is a hr\n",
      "mitali is a job\n"
     ]
    }
   ],
   "source": [
    "# a=Pers()\n",
    "# a.name=\"harish\"\n",
    "# a.occ=\"busi\"\n",
    "\n",
    "a=Pers(\"alka\",\"hr\")\n",
    "b=Pers(\"mitali\",\"job\")\n",
    "c=Pers(1,3)\n",
    "a.info()\n",
    "b.info()"
   ]
  },
  {
   "cell_type": "code",
   "execution_count": 181,
   "metadata": {},
   "outputs": [],
   "source": [
    "# print(a.name)\n",
    "# print(a.info())"
   ]
  },
  {
   "cell_type": "code",
   "execution_count": null,
   "metadata": {},
   "outputs": [],
   "source": []
  }
 ],
 "metadata": {
  "kernelspec": {
   "display_name": "Python 3",
   "language": "python",
   "name": "python3"
  },
  "language_info": {
   "codemirror_mode": {
    "name": "ipython",
    "version": 3
   },
   "file_extension": ".py",
   "mimetype": "text/x-python",
   "name": "python",
   "nbconvert_exporter": "python",
   "pygments_lexer": "ipython3",
   "version": "3.12.3"
  }
 },
 "nbformat": 4,
 "nbformat_minor": 2
}
